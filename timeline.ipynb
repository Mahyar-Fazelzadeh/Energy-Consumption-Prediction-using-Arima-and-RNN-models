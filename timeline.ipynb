{
 "cells": [
  {
   "cell_type": "code",
   "execution_count": 11,
   "id": "6349e47c",
   "metadata": {},
   "outputs": [],
   "source": [
    "import pandas as pd\n",
    "import numpy as np\n",
    "import matplotlib\n",
    "import matplotlib.pyplot as plt\n",
    "import datetime as dt"
   ]
  },
  {
   "cell_type": "code",
   "execution_count": 20,
   "id": "bb223815",
   "metadata": {},
   "outputs": [],
   "source": [
    "df = pd.DataFrame({'task': ['A', 'B', 'C', 'D', 'E'],\n",
    "                  'Description': ['Arima Model', 'NN Model', 'Clustering Daily Pattern', 'Adding more features', 'Deployment Readme and presentation'],\n",
    "                  'start': pd.to_datetime(['23 Nov 2022', '24 Nov 2022', '26 Nov 2022',   '27 Nov 2022',         '28 Nov 2022']),\n",
    "                  'end': pd.to_datetime(['24 Nov 2022', '25 Nov 2022', '26 Nov 2022',    '27 Nov 2022',          '29 Nov 2022']),\n",
    "                  'completion_frac': [ 0.99, 0.1, 0, 0, 0]})\n",
    "#print(df)"
   ]
  },
  {
   "cell_type": "code",
   "execution_count": 21,
   "id": "1ff91478",
   "metadata": {},
   "outputs": [
    {
     "data": {
      "text/html": [
       "<div>\n",
       "<style scoped>\n",
       "    .dataframe tbody tr th:only-of-type {\n",
       "        vertical-align: middle;\n",
       "    }\n",
       "\n",
       "    .dataframe tbody tr th {\n",
       "        vertical-align: top;\n",
       "    }\n",
       "\n",
       "    .dataframe thead th {\n",
       "        text-align: right;\n",
       "    }\n",
       "</style>\n",
       "<table border=\"1\" class=\"dataframe\">\n",
       "  <thead>\n",
       "    <tr style=\"text-align: right;\">\n",
       "      <th></th>\n",
       "      <th>task</th>\n",
       "      <th>Description</th>\n",
       "      <th>start</th>\n",
       "      <th>end</th>\n",
       "      <th>completion_frac</th>\n",
       "      <th>days_to_start</th>\n",
       "      <th>days_to_end</th>\n",
       "      <th>task_duration</th>\n",
       "      <th>completion_days</th>\n",
       "    </tr>\n",
       "  </thead>\n",
       "  <tbody>\n",
       "    <tr>\n",
       "      <th>0</th>\n",
       "      <td>A</td>\n",
       "      <td>Arima Model</td>\n",
       "      <td>2022-11-23</td>\n",
       "      <td>2022-11-24</td>\n",
       "      <td>0.99</td>\n",
       "      <td>0</td>\n",
       "      <td>1</td>\n",
       "      <td>2</td>\n",
       "      <td>1.98</td>\n",
       "    </tr>\n",
       "    <tr>\n",
       "      <th>1</th>\n",
       "      <td>B</td>\n",
       "      <td>NN Model</td>\n",
       "      <td>2022-11-24</td>\n",
       "      <td>2022-11-25</td>\n",
       "      <td>0.10</td>\n",
       "      <td>1</td>\n",
       "      <td>2</td>\n",
       "      <td>2</td>\n",
       "      <td>0.20</td>\n",
       "    </tr>\n",
       "    <tr>\n",
       "      <th>2</th>\n",
       "      <td>C</td>\n",
       "      <td>Clustering Daily Pattern</td>\n",
       "      <td>2022-11-26</td>\n",
       "      <td>2022-11-26</td>\n",
       "      <td>0.00</td>\n",
       "      <td>3</td>\n",
       "      <td>3</td>\n",
       "      <td>1</td>\n",
       "      <td>0.00</td>\n",
       "    </tr>\n",
       "    <tr>\n",
       "      <th>3</th>\n",
       "      <td>D</td>\n",
       "      <td>Adding more features</td>\n",
       "      <td>2022-11-27</td>\n",
       "      <td>2022-11-27</td>\n",
       "      <td>0.00</td>\n",
       "      <td>4</td>\n",
       "      <td>4</td>\n",
       "      <td>1</td>\n",
       "      <td>0.00</td>\n",
       "    </tr>\n",
       "    <tr>\n",
       "      <th>4</th>\n",
       "      <td>E</td>\n",
       "      <td>Deployment Readme and presentation</td>\n",
       "      <td>2022-11-28</td>\n",
       "      <td>2022-11-29</td>\n",
       "      <td>0.00</td>\n",
       "      <td>5</td>\n",
       "      <td>6</td>\n",
       "      <td>2</td>\n",
       "      <td>0.00</td>\n",
       "    </tr>\n",
       "  </tbody>\n",
       "</table>\n",
       "</div>"
      ],
      "text/plain": [
       "  task                         Description      start        end  \\\n",
       "0    A                         Arima Model 2022-11-23 2022-11-24   \n",
       "1    B                            NN Model 2022-11-24 2022-11-25   \n",
       "2    C            Clustering Daily Pattern 2022-11-26 2022-11-26   \n",
       "3    D                Adding more features 2022-11-27 2022-11-27   \n",
       "4    E  Deployment Readme and presentation 2022-11-28 2022-11-29   \n",
       "\n",
       "   completion_frac  days_to_start  days_to_end  task_duration  completion_days  \n",
       "0             0.99              0            1              2             1.98  \n",
       "1             0.10              1            2              2             0.20  \n",
       "2             0.00              3            3              1             0.00  \n",
       "3             0.00              4            4              1             0.00  \n",
       "4             0.00              5            6              2             0.00  "
      ]
     },
     "execution_count": 21,
     "metadata": {},
     "output_type": "execute_result"
    }
   ],
   "source": [
    "df['days_to_start'] = (df['start'] - df['start'].min()).dt.days\n",
    "\n",
    "df['days_to_end'] = (df['end'] - df['start'].min()).dt.days\n",
    "\n",
    "df['task_duration'] = df['days_to_end'] - df['days_to_start'] + 1  # to include also the end date\n",
    "\n",
    "df['completion_days'] = df['completion_frac'] * df['task_duration']\n",
    "\n",
    "df"
   ]
  },
  {
   "cell_type": "code",
   "execution_count": 22,
   "id": "90fa6c22",
   "metadata": {},
   "outputs": [],
   "source": [
    "xticks = np.arange(1, df['days_to_end'].max() + 7, 1)\n",
    "\n",
    "xticklabels = pd.date_range(start=df['start'].min() , end=df['end'].max()+ dt.timedelta(days=5)).strftime(\"%d/%m\")\n",
    "\n",
    "\n",
    "tasks_colors = {'Arima Model': 'c', 'NN Model': 'm', 'Clustering Daily Pattern': 'y', 'Adding more features': 'b', 'Deployment Readme and presentation':'g'}\n",
    " \n",
    "patches = []\n",
    "for team in tasks_colors:\n",
    "    patches.append(matplotlib.patches.Patch(color=tasks_colors[team]))"
   ]
  },
  {
   "cell_type": "code",
   "execution_count": 23,
   "id": "0c2da597",
   "metadata": {},
   "outputs": [
    {
     "data": {
      "image/png": "[encoded data removed]",
      "text/plain": [
       "<Figure size 640x480 with 1 Axes>"
      ]
     },
     "metadata": {},
     "output_type": "display_data"
    }
   ],
   "source": [
    "fig, ax = plt.subplots()\n",
    "\n",
    "for index, row in df.iterrows():\n",
    "\n",
    "    # Adding a lower bar - for the overall task duration\n",
    "    plt.barh(y=row['task'], width=row['task_duration'], left=row['days_to_start'] + 1, color=tasks_colors[row['Description']], alpha=0.4)\n",
    "\n",
    "    # Adding an upper bar - for the status of completion\n",
    "    plt.barh(y=row['task'], width=row['completion_days'], left=row['days_to_start'] + 1, color=tasks_colors[row['Description']])\n",
    "\n",
    "plt.title('Energy Consumption Prediction', fontsize=15)\n",
    "plt.gca().invert_yaxis()\n",
    "ax.set_xticks(xticks)\n",
    "ax.set_xticklabels(xticklabels[::1])\n",
    "ax.xaxis.grid(True, alpha=0.5)\n",
    "ax.legend(handles=patches, labels=tasks_colors.keys(), fontsize=11)\n",
    "plt.savefig('timeline_pic.png')\n",
    "plt.show()"
   ]
  },
  {
   "cell_type": "code",
   "execution_count": null,
   "id": "2f739da2",
   "metadata": {},
   "outputs": [],
   "source": []
  },
  {
   "cell_type": "code",
   "execution_count": null,
   "id": "6dbe99eb",
   "metadata": {},
   "outputs": [],
   "source": []
  }
 ],
 "metadata": {
  "kernelspec": {
   "display_name": "Python (tensor_playground )",
   "language": "python",
   "name": "tensor_playground"
  },
  "language_info": {
   "codemirror_mode": {
    "name": "ipython",
    "version": 3
   },
   "file_extension": ".py",
   "mimetype": "text/x-python",
   "name": "python",
   "nbconvert_exporter": "python",
   "pygments_lexer": "ipython3",
   "version": "3.10.8"
  }
 },
 "nbformat": 4,
 "nbformat_minor": 5
}
