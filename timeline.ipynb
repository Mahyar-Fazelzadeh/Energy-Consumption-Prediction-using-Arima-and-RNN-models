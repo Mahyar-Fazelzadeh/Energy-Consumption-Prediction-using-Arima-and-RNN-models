{
 "cells": [
  {
   "cell_type": "code",
   "execution_count": 109,
   "id": "8f0be990",
   "metadata": {},
   "outputs": [],
   "source": [
    "import pandas as pd\n",
    "import numpy as np\n",
    "import matplotlib\n",
    "import matplotlib.pyplot as plt\n",
    "import datetime as dt"
   ]
  },
  {
   "cell_type": "code",
   "execution_count": 118,
   "id": "59445333",
   "metadata": {},
   "outputs": [],
   "source": [
    "df = pd.DataFrame({'task': ['A', 'B', 'C', 'D', 'E'],\n",
    "                  'Description': ['Arima Model', 'NN Model', 'Clustering Daily Pattern', 'Adding more features', 'Readme and presentation'],\n",
    "                  'start': pd.to_datetime(['23 Nov 2022', '24 Nov 2022', '26 Nov 2022',   '27 Nov 2022',         '28 Nov 2022']),\n",
    "                  'end': pd.to_datetime(['24 Nov 2022', '25 Nov 2022', '26 Nov 2022',    '27 Nov 2022',          '28 Nov 2022']),\n",
    "                  'completion_frac': [ 0.80, 0, 0, 0, 0]})\n",
    "#print(df)"
   ]
  },
  {
   "cell_type": "code",
   "execution_count": 119,
   "id": "7f9b039e",
   "metadata": {},
   "outputs": [
    {
     "data": {
      "text/html": [
       "<div>\n",
       "<style scoped>\n",
       "    .dataframe tbody tr th:only-of-type {\n",
       "        vertical-align: middle;\n",
       "    }\n",
       "\n",
       "    .dataframe tbody tr th {\n",
       "        vertical-align: top;\n",
       "    }\n",
       "\n",
       "    .dataframe thead th {\n",
       "        text-align: right;\n",
       "    }\n",
       "</style>\n",
       "<table border=\"1\" class=\"dataframe\">\n",
       "  <thead>\n",
       "    <tr style=\"text-align: right;\">\n",
       "      <th></th>\n",
       "      <th>task</th>\n",
       "      <th>Description</th>\n",
       "      <th>start</th>\n",
       "      <th>end</th>\n",
       "      <th>completion_frac</th>\n",
       "      <th>days_to_start</th>\n",
       "      <th>days_to_end</th>\n",
       "      <th>task_duration</th>\n",
       "      <th>completion_days</th>\n",
       "    </tr>\n",
       "  </thead>\n",
       "  <tbody>\n",
       "    <tr>\n",
       "      <th>0</th>\n",
       "      <td>A</td>\n",
       "      <td>Arima Model</td>\n",
       "      <td>2022-11-23</td>\n",
       "      <td>2022-11-24</td>\n",
       "      <td>0.8</td>\n",
       "      <td>0</td>\n",
       "      <td>1</td>\n",
       "      <td>2</td>\n",
       "      <td>1.6</td>\n",
       "    </tr>\n",
       "    <tr>\n",
       "      <th>1</th>\n",
       "      <td>B</td>\n",
       "      <td>NN Model</td>\n",
       "      <td>2022-11-24</td>\n",
       "      <td>2022-11-25</td>\n",
       "      <td>0.0</td>\n",
       "      <td>1</td>\n",
       "      <td>2</td>\n",
       "      <td>2</td>\n",
       "      <td>0.0</td>\n",
       "    </tr>\n",
       "    <tr>\n",
       "      <th>2</th>\n",
       "      <td>C</td>\n",
       "      <td>Clustering Daily Pattern</td>\n",
       "      <td>2022-11-26</td>\n",
       "      <td>2022-11-26</td>\n",
       "      <td>0.0</td>\n",
       "      <td>3</td>\n",
       "      <td>3</td>\n",
       "      <td>1</td>\n",
       "      <td>0.0</td>\n",
       "    </tr>\n",
       "    <tr>\n",
       "      <th>3</th>\n",
       "      <td>D</td>\n",
       "      <td>Adding more features</td>\n",
       "      <td>2022-11-27</td>\n",
       "      <td>2022-11-27</td>\n",
       "      <td>0.0</td>\n",
       "      <td>4</td>\n",
       "      <td>4</td>\n",
       "      <td>1</td>\n",
       "      <td>0.0</td>\n",
       "    </tr>\n",
       "    <tr>\n",
       "      <th>4</th>\n",
       "      <td>E</td>\n",
       "      <td>Readme and presentation</td>\n",
       "      <td>2022-11-28</td>\n",
       "      <td>2022-11-28</td>\n",
       "      <td>0.0</td>\n",
       "      <td>5</td>\n",
       "      <td>5</td>\n",
       "      <td>1</td>\n",
       "      <td>0.0</td>\n",
       "    </tr>\n",
       "  </tbody>\n",
       "</table>\n",
       "</div>"
      ],
      "text/plain": [
       "  task               Description      start        end  completion_frac  \\\n",
       "0    A               Arima Model 2022-11-23 2022-11-24              0.8   \n",
       "1    B                  NN Model 2022-11-24 2022-11-25              0.0   \n",
       "2    C  Clustering Daily Pattern 2022-11-26 2022-11-26              0.0   \n",
       "3    D      Adding more features 2022-11-27 2022-11-27              0.0   \n",
       "4    E   Readme and presentation 2022-11-28 2022-11-28              0.0   \n",
       "\n",
       "   days_to_start  days_to_end  task_duration  completion_days  \n",
       "0              0            1              2              1.6  \n",
       "1              1            2              2              0.0  \n",
       "2              3            3              1              0.0  \n",
       "3              4            4              1              0.0  \n",
       "4              5            5              1              0.0  "
      ]
     },
     "execution_count": 119,
     "metadata": {},
     "output_type": "execute_result"
    }
   ],
   "source": [
    "df['days_to_start'] = (df['start'] - df['start'].min()).dt.days\n",
    "\n",
    "df['days_to_end'] = (df['end'] - df['start'].min()).dt.days\n",
    "\n",
    "df['task_duration'] = df['days_to_end'] - df['days_to_start'] + 1  # to include also the end date\n",
    "\n",
    "df['completion_days'] = df['completion_frac'] * df['task_duration']\n",
    "\n",
    "df"
   ]
  },
  {
   "cell_type": "code",
   "execution_count": 120,
   "id": "f98e0c47",
   "metadata": {},
   "outputs": [],
   "source": [
    "xticks = np.arange(1, df['days_to_end'].max() + 6, 1)\n",
    "\n",
    "xticklabels = pd.date_range(start=df['start'].min() , end=df['end'].max()+ dt.timedelta(days=4)).strftime(\"%d/%m\")\n",
    "\n",
    "\n",
    "tasks_colors = {'Arima Model': 'c', 'NN Model': 'm', 'Clustering Daily Pattern': 'y', 'Adding more features': 'b', 'Readme and presentation':'g'}\n",
    " \n",
    "patches = []\n",
    "for team in tasks_colors:\n",
    "    patches.append(matplotlib.patches.Patch(color=tasks_colors[team]))"
   ]
  },
  {
   "cell_type": "code",
   "execution_count": 125,
   "id": "838e24ce",
   "metadata": {},
   "outputs": [
    {
     "data": {
      "image/png": "[encoded data removed]",
      "text/plain": [
       "<Figure size 640x480 with 1 Axes>"
      ]
     },
     "metadata": {},
     "output_type": "display_data"
    }
   ],
   "source": [
    "fig, ax = plt.subplots()\n",
    "\n",
    "for index, row in df.iterrows():\n",
    "\n",
    "    # Adding a lower bar - for the overall task duration\n",
    "    plt.barh(y=row['task'], width=row['task_duration'], left=row['days_to_start'] + 1, color=tasks_colors[row['Description']], alpha=0.4)\n",
    "\n",
    "    # Adding an upper bar - for the status of completion\n",
    "    plt.barh(y=row['task'], width=row['completion_days'], left=row['days_to_start'] + 1, color=tasks_colors[row['Description']])\n",
    "\n",
    "plt.title('Energy Consumption Prediction', fontsize=15)\n",
    "plt.gca().invert_yaxis()\n",
    "ax.set_xticks(xticks)\n",
    "ax.set_xticklabels(xticklabels[::1])\n",
    "ax.xaxis.grid(True, alpha=0.5)\n",
    "ax.legend(handles=patches, labels=tasks_colors.keys(), fontsize=11)\n",
    "plt.savefig('foo.png')\n",
    "plt.show()"
   ]
  },
  {
   "cell_type": "code",
   "execution_count": 124,
   "id": "dc4d0a7b",
   "metadata": {},
   "outputs": [
    {
     "data": {
      "text/plain": [
       "<Figure size 640x480 with 0 Axes>"
      ]
     },
     "metadata": {},
     "output_type": "display_data"
    }
   ],
   "source": []
  },
  {
   "cell_type": "code",
   "execution_count": null,
   "id": "0adc26be",
   "metadata": {},
   "outputs": [],
   "source": []
  }
 ],
 "metadata": {
  "kernelspec": {
   "display_name": "Python (tensor_playground )",
   "language": "python",
   "name": "tensor_playground"
  },
  "language_info": {
   "codemirror_mode": {
    "name": "ipython",
    "version": 3
   },
   "file_extension": ".py",
   "mimetype": "text/x-python",
   "name": "python",
   "nbconvert_exporter": "python",
   "pygments_lexer": "ipython3",
   "version": "3.10.8"
  }
 },
 "nbformat": 4,
 "nbformat_minor": 5
}
