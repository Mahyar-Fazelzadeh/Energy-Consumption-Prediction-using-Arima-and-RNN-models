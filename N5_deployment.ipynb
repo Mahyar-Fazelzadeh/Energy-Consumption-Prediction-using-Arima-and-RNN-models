{
 "cells": [
  {
   "cell_type": "code",
   "execution_count": 18,
   "id": "d14138c3",
   "metadata": {},
   "outputs": [
    {
     "name": "stdout",
     "output_type": "stream",
     "text": [
      "Overwriting power.py\n"
     ]
    }
   ],
   "source": [
    "%%writefile power.py\n",
    "\n",
    "\n",
    "\n",
    "import numpy as np\n",
    "from flask import Flask, request, jsonify, render_template\n",
    "import pickle\n",
    "import pandas as pd\n",
    "from joblib import dump, load\n",
    "import datetime as dt\n",
    "app = Flask(__name__)\n",
    "\n",
    "\n",
    "filename_arima = 'models/model_arima.pkl'\n",
    "\n",
    "\n",
    "\n",
    "\n",
    "with open(filename_arima, 'rb') as file:\n",
    "    model_arima = load(file)\n",
    "\n",
    "# with open(filename_rnn, 'rb') as file:\n",
    "#     model_rnn = load(file)\n",
    "\n",
    "@app.route('/')\n",
    "def home():\n",
    "    return render_template('index.html')\n",
    "\n",
    "\n",
    "@app.route('/predict', methods=['POST'])\n",
    "def predict():\n",
    "    \n",
    "    # Inputs\n",
    "    year = int(request.form['year'])    \n",
    "    month = int(request.form['month'])\n",
    "    day = int(request.form['day'])\n",
    "\n",
    "    date = pd.Timestamp(year=year,month=month,day=day)\n",
    "    \n",
    "    # Arima predictions\n",
    "    forecast_arima = model_arima.predict(start=364, end=364 + 7, typ='levels').rename('ARIMA Forecast')\n",
    "    output_arima = round(forecast_arima.loc[date],2)\n",
    "    \n",
    "    #RNN predictions\n",
    "    df = pd.read_pickle('models/rnn_predictions.pkl')\n",
    "    output_rnn = df.loc[date][0]\n",
    "\n",
    "    return render_template('index.html', prediction_text=\n",
    "\n",
    "                           (f\"Arima model prediction (mape= 1.56 %)  =   {output_arima}  and    RNN model prediction (mape= 2.04 %)  =  {output_rnn}\"))\n",
    "\n",
    "\n",
    "\n",
    "if __name__ == \"__main__\":\n",
    "    app.run(debug=True)\n",
    "\n"
   ]
  }
 ],
 "metadata": {
  "kernelspec": {
   "display_name": "Python (tensor_playground )",
   "language": "python",
   "name": "tensor_playground"
  },
  "language_info": {
   "codemirror_mode": {
    "name": "ipython",
    "version": 3
   },
   "file_extension": ".py",
   "mimetype": "text/x-python",
   "name": "python",
   "nbconvert_exporter": "python",
   "pygments_lexer": "ipython3",
   "version": "3.10.8"
  }
 },
 "nbformat": 4,
 "nbformat_minor": 5
}
